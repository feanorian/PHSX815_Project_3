{
 "cells": [
  {
   "cell_type": "markdown",
   "id": "da656ce2-a21b-47f7-90ce-629ca3972a7e",
   "metadata": {},
   "source": [
    "# This is some sample code that generates 3 urns, sampls from them, and calculates the fraction of white marbles for each urn "
   ]
  },
  {
   "cell_type": "code",
   "execution_count": 1,
   "id": "54c7c504-71a8-4231-ac10-9e1fd98b54a8",
   "metadata": {},
   "outputs": [],
   "source": [
    "import sys\n",
    "import numpy as np\n",
    "import matplotlib.pyplot as plt\n",
    "import csv\n",
    "import pandas as pd\n",
    "import seaborn as sns\n",
    "import random"
   ]
  },
  {
   "cell_type": "code",
   "execution_count": 2,
   "id": "5b077e29-02e5-46b1-bfd7-038d7971bf37",
   "metadata": {},
   "outputs": [],
   "source": [
    "np.random.seed(898)\n",
    "#Number of urns\n",
    "n_urns = 3\n",
    "# alpha to generate dispersion of propbabilities\n",
    "alpha = [1,1]\n",
    "# Urns generated with different ratios\n",
    "urns = np.random.dirichlet(alpha, n_urns)"
   ]
  },
  {
   "cell_type": "code",
   "execution_count": 3,
   "id": "1316e2b0-071e-44b9-9e8c-537faf02be6d",
   "metadata": {},
   "outputs": [
    {
     "data": {
      "text/plain": [
       "array([[0.68713824, 0.31286176],\n",
       "       [0.69943519, 0.30056481],\n",
       "       [0.42934757, 0.57065243]])"
      ]
     },
     "execution_count": 3,
     "metadata": {},
     "output_type": "execute_result"
    }
   ],
   "source": [
    "urns"
   ]
  },
  {
   "cell_type": "code",
   "execution_count": 4,
   "id": "86d29474-e2c3-4877-bb96-a44531a88fac",
   "metadata": {},
   "outputs": [],
   "source": [
    "\n",
    "# Function that constructs an urn  passing the number of trials and probability array for the urn. \n",
    "def Category(trials, prob):\n",
    "\tx = np.random.multinomial(trials, prob, 1)\n",
    "\treturn x\n",
    "\n",
    "\n",
    "\n",
    "# function that takes the urns stored in outcomes_list and samples N_picks for N_Trials each\n",
    "def color_samples(N_Trials, N_picks):\n",
    "\t\n",
    "\t\t\n",
    "\n",
    "    urn_samples = []\n",
    "    for urn in outcomes_list:\n",
    "        sublist = []\n",
    "        for _ in range(N_Trials):\n",
    "            urnH0_draws = random.sample(urn,N_picks)\n",
    "            sublist.append(urnH0_draws)\n",
    "        urn_samples.append(sublist)\n",
    "\t\t\n",
    "\t# store the draws as color data\n",
    "    urnh0_draws_colors = []\n",
    "\t# converts the draws from urnH0_draws into colors\n",
    "    for urn in urn_samples:\n",
    "        colors = []\n",
    "        for trial in urn:\n",
    "            color = []\n",
    "            for i in range(len(trial)):\n",
    "                if trial[i] == '1':\n",
    "                    color.append('White')\n",
    "                else:\n",
    "                    color.append('Black')\n",
    "            colors.append(color)\n",
    "        urnh0_draws_colors.append(colors)\n",
    "    return urnh0_draws_colors\n"
   ]
  },
  {
   "cell_type": "code",
   "execution_count": 80,
   "id": "2b77c982-198d-4507-ba86-10056fb2eb13",
   "metadata": {},
   "outputs": [],
   "source": [
    "occurences_list = []\n",
    "# outcomes of each urn as strings\n",
    "outcomes_list = []\n",
    "# outcomes of each urn as ints\n",
    "outcomes_int = []\n",
    "N_marbles_urn = 10000\n",
    "# constructs an urn  passing the number of rolls and the probability. Here, the number of marbles is set to N = 100000\n",
    "for urn in urns:\n",
    "\toccurences = Category(N_marbles_urn, urn)[0]\n",
    "\toccurences_list.append(occurences)\n",
    "for urn in occurences_list:\n",
    "\toutcome = []\n",
    "\tfor i in range(len(urn)):\n",
    "\t\toutcome += str(i+1)*urn[i]\n",
    "\t\t\n",
    "\toutcomes_list.append(outcome)\n",
    "\t\n",
    "\t\n",
    "for urn in outcomes_list:\n",
    "\tout_int = [int(i) for i in urn] \n",
    "\toutcomes_int.append(out_int)"
   ]
  },
  {
   "cell_type": "code",
   "execution_count": 110,
   "id": "68c327dd-1c0c-4530-b4fb-474bbf376916",
   "metadata": {},
   "outputs": [],
   "source": [
    "# function to obtain the ratios of white marbles per trial per urn\n",
    "def white_urn_counts(urn_samp):\n",
    "    white_urn_counts = []\n",
    "    for urn in urn_samp:\n",
    "        white_count = []\n",
    "        for trial in urn:\n",
    "            count = trial.count('White')\n",
    "            white_count.append(count/len(trial))\n",
    "        white_urn_counts.append(white_count)\n",
    "    return white_urn_counts"
   ]
  },
  {
   "cell_type": "code",
   "execution_count": 12,
   "id": "3fb13342-437a-4734-a8fd-e8ef997ea063",
   "metadata": {},
   "outputs": [],
   "source": []
  },
  {
   "cell_type": "code",
   "execution_count": 81,
   "id": "66cd8627-9b82-4e67-a5eb-ea502bc63a12",
   "metadata": {},
   "outputs": [],
   "source": [
    "#function call to begin sampling with 30 Trials and 1000 marbles per urn\n",
    "urn_samp = color_samples(30, 1000)\n",
    "# function call to obtain the fractio of white marbles in the trials\n",
    "white = white_urn_counts(urn_samp)"
   ]
  },
  {
   "cell_type": "code",
   "execution_count": 82,
   "id": "e6752170-fb44-46d0-aff3-9cb51f9bbb42",
   "metadata": {},
   "outputs": [],
   "source": []
  },
  {
   "cell_type": "code",
   "execution_count": 115,
   "id": "2cdffc59-4ff4-4b8d-87bd-ee3fbce79dd4",
   "metadata": {},
   "outputs": [],
   "source": [
    "# Arrays that store the fractions of White marbles per trial for each urn to be plotted in histogram\n",
    "urn1 = white[0]\n",
    "urn2 = white[1]\n",
    "urn3 = white[2]\n"
   ]
  },
  {
   "cell_type": "code",
   "execution_count": 116,
   "id": "41fcd74c-fd2f-4d2e-bf9c-0bce470f604e",
   "metadata": {},
   "outputs": [
    {
     "data": {
      "image/png": "[encoded data removed]",
      "text/plain": [
       "<Figure size 640x480 with 1 Axes>"
      ]
     },
     "metadata": {},
     "output_type": "display_data"
    }
   ],
   "source": [
    "# plots histograms for every urn\n",
    "sns.histplot(urn1, element=\"step\",fill = True, color = 'lavender', bins='auto', label='Urn 1')\n",
    "sns.histplot(urn2, element=\"step\",fill = True, color = 'pink', bins='auto', label='Urn 2', alpha = .25)\n",
    "sns.histplot(urn3, element=\"step\",fill = True, color = 'orange', bins='auto', label='Urn 3')\n",
    "plt.legend(loc='center')\n",
    "plt.title(f'white/total per urn for {len(urn1)} trials per urn')\n",
    "plt.xlabel('White/Total')\n",
    "plt.savefig('urns', dpi= 700)"
   ]
  },
  {
   "cell_type": "code",
   "execution_count": 76,
   "id": "a20cc85c-486d-45c6-a509-9ee2d22fa6af",
   "metadata": {},
   "outputs": [
    {
     "data": {
      "text/plain": [
       "<AxesSubplot:ylabel='Count'>"
      ]
     },
     "execution_count": 76,
     "metadata": {},
     "output_type": "execute_result"
    },
    {
     "data": {
      "image/png": "[encoded data removed]",
      "text/plain": [
       "<Figure size 640x480 with 1 Axes>"
      ]
     },
     "metadata": {},
     "output_type": "display_data"
    }
   ],
   "source": [
    "sns.histplot(urn2, element=\"step\",fill = True, color = 'pink', bins=10)"
   ]
  },
  {
   "cell_type": "code",
   "execution_count": 75,
   "id": "85e18bba-1265-4b3c-9b67-abc19d0dcb20",
   "metadata": {},
   "outputs": [
    {
     "data": {
      "text/plain": [
       "<AxesSubplot:ylabel='Count'>"
      ]
     },
     "execution_count": 75,
     "metadata": {},
     "output_type": "execute_result"
    },
    {
     "data": {
      "image/png": "[encoded data removed]",
      "text/plain": [
       "<Figure size 640x480 with 1 Axes>"
      ]
     },
     "metadata": {},
     "output_type": "display_data"
    }
   ],
   "source": [
    "sns.histplot(urn3, element=\"step\",fill = True, color = 'orange', bins=10)"
   ]
  },
  {
   "cell_type": "code",
   "execution_count": null,
   "id": "a60b4b17-3ec1-44d1-aeaa-7ee1a24c2db0",
   "metadata": {},
   "outputs": [],
   "source": []
  },
  {
   "cell_type": "code",
   "execution_count": null,
   "id": "a6a2c039-8975-482b-aa55-a0f116bbf4f9",
   "metadata": {},
   "outputs": [],
   "source": []
  },
  {
   "cell_type": "code",
   "execution_count": null,
   "id": "7b077a8d-63ea-40ea-8c90-b5ba85a52d0a",
   "metadata": {},
   "outputs": [],
   "source": []
  },
  {
   "cell_type": "code",
   "execution_count": null,
   "id": "ce5e2fc3-fe5e-4e86-92bb-373cc284d290",
   "metadata": {},
   "outputs": [],
   "source": []
  },
  {
   "cell_type": "code",
   "execution_count": null,
   "id": "48a54464-2cdd-4224-a3f0-207f9a3b2fd4",
   "metadata": {},
   "outputs": [],
   "source": []
  },
  {
   "cell_type": "code",
   "execution_count": null,
   "id": "3b546061-ed8d-4590-992e-14d282d5ed00",
   "metadata": {},
   "outputs": [],
   "source": []
  },
  {
   "cell_type": "code",
   "execution_count": null,
   "id": "e2f1f231-cb2f-40a6-821a-e48bdd9d0516",
   "metadata": {},
   "outputs": [],
   "source": []
  },
  {
   "cell_type": "code",
   "execution_count": null,
   "id": "6384d17e-09df-4a07-b0cd-52e4cc4dd1e3",
   "metadata": {},
   "outputs": [],
   "source": []
  },
  {
   "cell_type": "code",
   "execution_count": null,
   "id": "7bb78a76-e7c6-43d6-b6cc-1b4611bb9ad0",
   "metadata": {},
   "outputs": [],
   "source": []
  },
  {
   "cell_type": "code",
   "execution_count": null,
   "id": "a3fe830a-fb0d-4b9a-8da2-cfdefef1c075",
   "metadata": {},
   "outputs": [],
   "source": []
  },
  {
   "cell_type": "code",
   "execution_count": null,
   "id": "7646b279-8ef7-479f-b802-e40d36e4404f",
   "metadata": {},
   "outputs": [],
   "source": []
  }
 ],
 "metadata": {
  "kernelspec": {
   "display_name": "Python 3 (ipykernel)",
   "language": "python",
   "name": "python3"
  },
  "language_info": {
   "codemirror_mode": {
    "name": "ipython",
    "version": 3
   },
   "file_extension": ".py",
   "mimetype": "text/x-python",
   "name": "python",
   "nbconvert_exporter": "python",
   "pygments_lexer": "ipython3",
   "version": "3.9.13"
  }
 },
 "nbformat": 4,
 "nbformat_minor": 5
}
